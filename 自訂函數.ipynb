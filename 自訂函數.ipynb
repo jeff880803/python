{
 "cells": [
  {
   "cell_type": "markdown",
   "metadata": {},
   "source": [
    "# 自訂函數"
   ]
  },
  {
   "cell_type": "code",
   "execution_count": 1,
   "metadata": {},
   "outputs": [
    {
     "name": "stdout",
     "output_type": "stream",
     "text": [
      "314.1592653589793\n"
     ]
    }
   ],
   "source": [
    "import math \n",
    "\n",
    "def circle(radius):\n",
    "    area = radius * radius * math.pi\n",
    "    return area\n",
    "\n",
    "print(circle(10))"
   ]
  },
  {
   "cell_type": "markdown",
   "metadata": {},
   "source": [
    "# 排序"
   ]
  },
  {
   "cell_type": "code",
   "execution_count": 2,
   "metadata": {},
   "outputs": [
    {
     "name": "stdout",
     "output_type": "stream",
     "text": [
      "[17, 70, 22, 74, 10, 58, 6, 85, 16, 4]\n",
      "[4, 6, 10, 16, 17, 22, 58, 70, 74, 85]\n",
      "[85, 74, 70, 58, 22, 17, 16, 10, 6, 4]\n"
     ]
    }
   ],
   "source": [
    "import random\n",
    "\n",
    "def exchange_sort(input_list):\n",
    "    a=input_list\n",
    "    for i in range(0, len(input_list)-1):\n",
    "        for j in range(i+1, len(input_list)):\n",
    "            if a[i] > a[j]:\n",
    "                a[i],  a[j]=a[j], a[i] \n",
    "    return a\n",
    "\n",
    "\n",
    "def exchange_sort_r(input_list):\n",
    "    a=input_list\n",
    "    for i in range(0, len(input_list)-1):\n",
    "        for j in range(i+1, len(input_list)):\n",
    "            if a[i] < a[j]:\n",
    "                a[i],  a[j]=a[j], a[i] \n",
    "    return a\n",
    "\n",
    "my_vector = random.sample (range(0,100), 10)\n",
    "print(my_vector)\n",
    "print(exchange_sort(my_vector))\n",
    "print(exchange_sort_r(my_vector))"
   ]
  },
  {
   "cell_type": "markdown",
   "metadata": {},
   "source": [
    "# python的lambda函數"
   ]
  },
  {
   "cell_type": "code",
   "execution_count": 3,
   "metadata": {},
   "outputs": [
    {
     "name": "stdout",
     "output_type": "stream",
     "text": [
      "314.0\n"
     ]
    }
   ],
   "source": [
    "def circle(radius):\n",
    "    return radius * radius * 3.14\n",
    "\n",
    "print(circle(10))"
   ]
  },
  {
   "cell_type": "markdown",
   "metadata": {},
   "source": [
    "# max"
   ]
  },
  {
   "cell_type": "code",
   "execution_count": 4,
   "metadata": {},
   "outputs": [
    {
     "name": "stdout",
     "output_type": "stream",
     "text": [
      "10\n"
     ]
    }
   ],
   "source": [
    "def max(m,n):\n",
    "    return m if m > n else n\n",
    "print(max(10,3))"
   ]
  },
  {
   "cell_type": "markdown",
   "metadata": {},
   "source": [
    "# lambda"
   ]
  },
  {
   "cell_type": "code",
   "execution_count": 5,
   "metadata": {},
   "outputs": [
    {
     "name": "stdout",
     "output_type": "stream",
     "text": [
      "10\n"
     ]
    }
   ],
   "source": [
    "#lambda\n",
    "max = lambda m,n: m if m>n else n\n",
    "print(max(10,3))"
   ]
  },
  {
   "cell_type": "markdown",
   "metadata": {},
   "source": [
    "# lamda寫法"
   ]
  },
  {
   "cell_type": "code",
   "execution_count": 6,
   "metadata": {},
   "outputs": [
    {
     "name": "stdout",
     "output_type": "stream",
     "text": [
      "[1, 2, 3, 4, 5, 1, 2, 3, 4, 5, 1, 2, 3, 4, 5, 1, 2, 3, 4, 5, 1, 2, 3, 4, 5]\n",
      "[ 5 10 15 20 25]\n",
      "[5, 10, 15, 20, 25]\n"
     ]
    }
   ],
   "source": [
    "# list *5\n",
    "a=[1,2,3,4,5]\n",
    "print(a*5)\n",
    "#numbpy *5\n",
    "import numpy as np\n",
    "b=np.array(a)\n",
    "print(b*5)\n",
    "#lamda寫法\n",
    "c=list(map(lambda x: x*5, a)) #map(function, data)\n",
    "print(c)"
   ]
  },
  {
   "cell_type": "markdown",
   "metadata": {},
   "source": [
    "# 錯誤處理 try:except:"
   ]
  },
  {
   "cell_type": "code",
   "execution_count": 7,
   "metadata": {},
   "outputs": [
    {
     "name": "stdout",
     "output_type": "stream",
     "text": [
      "314.0\n",
      "請輸入數值\n"
     ]
    }
   ],
   "source": [
    "def circle(radius):\n",
    "    try:\n",
    "        return radius * radius * 3.14\n",
    "    except:\n",
    "        return\"請輸入數值\"\n",
    "    \n",
    "print(circle(10))\n",
    "print(circle('十'))"
   ]
  },
  {
   "cell_type": "code",
   "execution_count": null,
   "metadata": {},
   "outputs": [],
   "source": []
  }
 ],
 "metadata": {
  "kernelspec": {
   "display_name": "Python 3",
   "language": "python",
   "name": "python3"
  },
  "language_info": {
   "codemirror_mode": {
    "name": "ipython",
    "version": 3
   },
   "file_extension": ".py",
   "mimetype": "text/x-python",
   "name": "python",
   "nbconvert_exporter": "python",
   "pygments_lexer": "ipython3",
   "version": "3.7.1"
  }
 },
 "nbformat": 4,
 "nbformat_minor": 2
}
