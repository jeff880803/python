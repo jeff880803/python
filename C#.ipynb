{
 "cells": [
  {
   "cell_type": "markdown",
   "metadata": {},
   "source": [
    " #  C\n",
    "    \n",
    " # Python"
   ]
  },
  {
   "cell_type": "code",
   "execution_count": 1,
   "metadata": {},
   "outputs": [
    {
     "name": "stdout",
     "output_type": "stream",
     "text": [
      "C#\n",
      "Python\n",
      "C++\n"
     ]
    }
   ],
   "source": [
    "mylist = ['C#','Python','Java','C++']\n",
    "for i in mylist:\n",
    "    if i == 'Java':\n",
    "        continue\n",
    "    else:\n",
    "            print(i)"
   ]
  },
  {
   "cell_type": "markdown",
   "metadata": {},
   "source": [
    "# 取10個亂數"
   ]
  },
  {
   "cell_type": "code",
   "execution_count": 2,
   "metadata": {},
   "outputs": [
    {
     "name": "stdout",
     "output_type": "stream",
     "text": [
      "0.2641110265911262\n",
      "0.21634928798019315\n",
      "0.008864298005170412\n",
      "0.05444469757849302\n",
      "0.7794372507239566\n",
      "0.7223846100749556\n",
      "0.9891724616210062\n",
      "0.5043596479970733\n",
      "0.31779647267532174\n",
      "0.2968762414733873\n"
     ]
    }
   ],
   "source": [
    "import random\n",
    "for i in range(0,10):\n",
    "    print(random.random())"
   ]
  },
  {
   "cell_type": "markdown",
   "metadata": {},
   "source": [
    "# 取10個 數字不超過2~8"
   ]
  },
  {
   "cell_type": "code",
   "execution_count": 3,
   "metadata": {},
   "outputs": [
    {
     "name": "stdout",
     "output_type": "stream",
     "text": [
      "4\n",
      "2\n",
      "6\n",
      "6\n",
      "2\n",
      "9\n",
      "3\n",
      "7\n",
      "8\n",
      "2\n"
     ]
    }
   ],
   "source": [
    "for i in range(0,10):\n",
    "    print(random.randint(1,9))"
   ]
  },
  {
   "cell_type": "markdown",
   "metadata": {},
   "source": [
    "# 小遊戲"
   ]
  },
  {
   "cell_type": "code",
   "execution_count": 5,
   "metadata": {},
   "outputs": [
    {
     "name": "stdout",
     "output_type": "stream",
     "text": [
      "請輸入1-99的數字(A離開):1\n",
      "答錯了\n",
      "請輸入1-99的數字(A離開):25\n",
      "答錯了\n",
      "請輸入1-99的數字(A離開):68\n",
      "答錯了\n",
      "請輸入1-99的數字(A離開):A\n",
      "離開遊戲\n"
     ]
    }
   ],
   "source": [
    "import random\n",
    "number=random.randint(1,99)\n",
    "while True:\n",
    "    guess=input('請輸入1-99的數字(A離開):')\n",
    "    if guess == 'A':\n",
    "        print('離開遊戲')\n",
    "        break\n",
    "    else:\n",
    "        if number==int(guess):\n",
    "                print('恭喜，答對了')\n",
    "                break\n",
    "        else:\n",
    "                print('答錯了')   "
   ]
  },
  {
   "cell_type": "code",
   "execution_count": null,
   "metadata": {},
   "outputs": [],
   "source": []
  }
 ],
 "metadata": {
  "kernelspec": {
   "display_name": "Python 3",
   "language": "python",
   "name": "python3"
  },
  "language_info": {
   "codemirror_mode": {
    "name": "ipython",
    "version": 3
   },
   "file_extension": ".py",
   "mimetype": "text/x-python",
   "name": "python",
   "nbconvert_exporter": "python",
   "pygments_lexer": "ipython3",
   "version": "3.7.1"
  }
 },
 "nbformat": 4,
 "nbformat_minor": 2
}
