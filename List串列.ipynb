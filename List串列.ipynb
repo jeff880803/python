{
 "cells": [
  {
   "cell_type": "markdown",
   "metadata": {},
   "source": [
    "# List串列"
   ]
  },
  {
   "cell_type": "code",
   "execution_count": 1,
   "metadata": {},
   "outputs": [
    {
     "name": "stdout",
     "output_type": "stream",
     "text": [
      "[1, 2, 3]\n",
      "python\n",
      "['python', 'js', 'SQL', 'java']\n"
     ]
    }
   ],
   "source": [
    "my_list0 = [1,2,3]\n",
    "print(my_list0)\n",
    "my_list1 = ['python' ,'js','SQL']\n",
    "print(my_list1[0])\n",
    "my_list1.append('java')\n",
    "print(my_list1)"
   ]
  },
  {
   "cell_type": "markdown",
   "metadata": {},
   "source": [
    "# 新增到特殊位置"
   ]
  },
  {
   "cell_type": "code",
   "execution_count": 2,
   "metadata": {},
   "outputs": [
    {
     "name": "stdout",
     "output_type": "stream",
     "text": [
      "['c#', 'python', 'js', 'SQL', 'java']\n",
      "5\n"
     ]
    }
   ],
   "source": [
    "my_list1.insert(0,'c#')\n",
    "print(my_list1)\n",
    "print(len(my_list1))"
   ]
  },
  {
   "cell_type": "markdown",
   "metadata": {},
   "source": [
    "# list長度"
   ]
  },
  {
   "cell_type": "code",
   "execution_count": 3,
   "metadata": {},
   "outputs": [
    {
     "name": "stdout",
     "output_type": "stream",
     "text": [
      "5\n",
      "6\n"
     ]
    }
   ],
   "source": [
    "my_list2=['c#','python' ,'js','SQL','java']\n",
    "print(len(my_list2))\n",
    "print(len(my_list2[1]))"
   ]
  },
  {
   "cell_type": "markdown",
   "metadata": {},
   "source": [
    "# 刪除某特定物件、某特定位置的物件、-1指的是從最後數來第一個位置"
   ]
  },
  {
   "cell_type": "code",
   "execution_count": 4,
   "metadata": {},
   "outputs": [
    {
     "name": "stdout",
     "output_type": "stream",
     "text": [
      "['c#', 'python', 'SQL', 'java']\n",
      "['python', 'SQL', 'java']\n",
      "['python', 'SQL']\n"
     ]
    }
   ],
   "source": [
    "my_list3=['c#','python' ,'js','SQL','java']\n",
    "my_list3.remove('js')    #刪除某特定物件\n",
    "print(my_list3)\n",
    "del my_list3[0]          #刪除某特定位置的物件\n",
    "print(my_list3)\n",
    "del my_list3[-1]         #-1指的是從最後數來第一個位置\n",
    "print(my_list3)"
   ]
  },
  {
   "cell_type": "markdown",
   "metadata": {},
   "source": [
    "# 檢查JAVA字串是否有在指定字串內"
   ]
  },
  {
   "cell_type": "code",
   "execution_count": 5,
   "metadata": {},
   "outputs": [
    {
     "name": "stdout",
     "output_type": "stream",
     "text": [
      "False\n"
     ]
    }
   ],
   "source": [
    "print('java' in['python' ,'js','SQL'])"
   ]
  },
  {
   "cell_type": "markdown",
   "metadata": {},
   "source": [
    "# 串列的重複"
   ]
  },
  {
   "cell_type": "code",
   "execution_count": 6,
   "metadata": {},
   "outputs": [
    {
     "name": "stdout",
     "output_type": "stream",
     "text": [
      "[1, 2, 1, 2, 1, 2, 1, 2, 1, 2]\n"
     ]
    }
   ],
   "source": [
    "a=[1,2]\n",
    "print(a*5)"
   ]
  },
  {
   "cell_type": "markdown",
   "metadata": {},
   "source": [
    "# 串列取值 最大值 最小值"
   ]
  },
  {
   "cell_type": "code",
   "execution_count": 7,
   "metadata": {},
   "outputs": [
    {
     "name": "stdout",
     "output_type": "stream",
     "text": [
      "[1, 2, 3]\n",
      "[1, 3, 5, 7, 9]\n",
      "[1, 2, 3, 4, 5, 6, 7]\n",
      "7\n",
      "1\n",
      "0\n",
      "1\n"
     ]
    }
   ],
   "source": [
    "a=[1,2,3,4,5,6,7,8,9]\n",
    "b=a[0:3]         #包含0，但是不包含3\n",
    "print(b)\n",
    "c=a[0:9:2]       #間隔取值 [開始:結束:間隔]\n",
    "print(c)\n",
    "del a[7:9]\n",
    "print(a)\n",
    "print(max(a))     #最大值\n",
    "print(min(a))     #最小值\n",
    "print(a.index(1))\n",
    "print(a.count(1))"
   ]
  },
  {
   "cell_type": "markdown",
   "metadata": {},
   "source": [
    "# 串列反轉跟串列排序"
   ]
  },
  {
   "cell_type": "code",
   "execution_count": 8,
   "metadata": {},
   "outputs": [
    {
     "name": "stdout",
     "output_type": "stream",
     "text": [
      "[1, 2, 3, 4, 5, 6, 7]\n",
      "[7, 6, 5, 4, 3, 2, 1]\n",
      "[1, 2, 3, 4, 5, 6, 7]\n"
     ]
    }
   ],
   "source": [
    "print(a)\n",
    "a.reverse()   \n",
    "print(a)\n",
    "a.sort()    \n",
    "print(a)"
   ]
  },
  {
   "cell_type": "markdown",
   "metadata": {},
   "source": [
    "# 取特定位置的值"
   ]
  },
  {
   "cell_type": "code",
   "execution_count": 9,
   "metadata": {},
   "outputs": [
    {
     "name": "stdout",
     "output_type": "stream",
     "text": [
      "123\n",
      "abc\n",
      "[111, 222]\n",
      "222\n"
     ]
    }
   ],
   "source": [
    "a=[123,'abc',[111,222],[333,444]]\n",
    "print(a[0])\n",
    "print(a[1])\n",
    "print(a[2])\n",
    "print(a[2][1])"
   ]
  },
  {
   "cell_type": "markdown",
   "metadata": {},
   "source": [
    "# 串列List常用在For迴圈"
   ]
  },
  {
   "cell_type": "code",
   "execution_count": 10,
   "metadata": {},
   "outputs": [
    {
     "name": "stdout",
     "output_type": "stream",
     "text": [
      "milk\n",
      "egg\n",
      "coffee\n",
      "banana\n"
     ]
    }
   ],
   "source": [
    "shoplist = ['milk','egg','coffee','banana']\n",
    "for item in shoplist:\n",
    "    print(item)"
   ]
  },
  {
   "cell_type": "markdown",
   "metadata": {},
   "source": [
    "# tupe的元素不可新增刪除或修改"
   ]
  },
  {
   "cell_type": "code",
   "execution_count": 11,
   "metadata": {},
   "outputs": [
    {
     "name": "stdout",
     "output_type": "stream",
     "text": [
      "<class 'list'>\n",
      "<class 'tuple'>\n",
      "('python', 'js', 'SQL')\n"
     ]
    }
   ],
   "source": [
    "a_list=['python' ,'js','SQL']\n",
    "a_tuple=('python' ,'js','SQL')\n",
    "b_tuple=tuple(a_list)\n",
    "print(type(a_list))\n",
    "print(type(a_tuple))\n",
    "print(b_tuple)"
   ]
  },
  {
   "cell_type": "markdown",
   "metadata": {},
   "source": [
    "# 判斷類型"
   ]
  },
  {
   "cell_type": "code",
   "execution_count": 12,
   "metadata": {},
   "outputs": [
    {
     "name": "stdout",
     "output_type": "stream",
     "text": [
      "(111, 333, 222)\n",
      "<class 'tuple'>\n"
     ]
    }
   ],
   "source": [
    "c_tuple= 111,333,222   #c_tuple=(111,2222,333)\n",
    "print(c_tuple)\n",
    "print(type(c_tuple))"
   ]
  },
  {
   "cell_type": "code",
   "execution_count": null,
   "metadata": {},
   "outputs": [],
   "source": []
  }
 ],
 "metadata": {
  "kernelspec": {
   "display_name": "Python 3",
   "language": "python",
   "name": "python3"
  },
  "language_info": {
   "codemirror_mode": {
    "name": "ipython",
    "version": 3
   },
   "file_extension": ".py",
   "mimetype": "text/x-python",
   "name": "python",
   "nbconvert_exporter": "python",
   "pygments_lexer": "ipython3",
   "version": "3.7.1"
  }
 },
 "nbformat": 4,
 "nbformat_minor": 2
}
